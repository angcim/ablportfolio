{
 "cells": [
  {
   "cell_type": "markdown",
   "metadata": {},
   "source": [
    "# Parsing PDF's with Regular Expression\n",
    "\n",
    "This project goes over parsing Pdf's with regular expressions, also know as regex. Data stored in pdfs can be difficult to import into a database, but since pdfs are actually text, regex patterns can be used to collect data. This project will go over using regex on a pdf to turn the pdf into a dataframe, and then insert it into a SQL server."
   ]
  },
  {
   "cell_type": "markdown",
   "metadata": {},
   "source": [
    "## Summary of the Dataset\n",
    "\n",
    "The pdf I will be parsing is from the Missouri Department of Health & Senior Services website: https://health.mo.gov/safety/healthservregs/pdf/MOhospByName.pdf. The pdf does not have any available .txt or .csv file for download. Therefore, I will use regex to collect the data, because there is a pattern."
   ]
  },
  {
   "cell_type": "markdown",
   "metadata": {},
   "source": [
    "### Import pdf to Python\n",
    "\n",
    "The first step is to use the requests library in Python to grab the url and write it as a .pdf file for record keeping."
   ]
  },
  {
   "cell_type": "code",
   "execution_count": 15,
   "metadata": {},
   "outputs": [
    {
     "data": {
      "text/plain": [
       "178876"
      ]
     },
     "execution_count": 15,
     "metadata": {},
     "output_type": "execute_result"
    }
   ],
   "source": [
    "import requests\n",
    "\n",
    "\n",
    "url_data ='https://health.mo.gov/safety/healthservregs/pdf/MOhospByName.pdf'\n",
    "\n",
    "MO_data = requests.get(url_data, allow_redirects=True , verify=True)\n",
    "\n",
    "\n",
    "open(r\"C:/Users/blong/Desktop/Python/MO-hosp-data.pdf\", \"wb\").write(MO_data.content)"
   ]
  },
  {
   "cell_type": "markdown",
   "metadata": {},
   "source": [
    "### Convert pdf to text\n",
    "\n",
    "The next step includes loading the other libraries needed: re for regex, pandas, and pdfplumber. Pdfplummer was the library I used to convert the pdf into text. There are other libraries similar to pdfplummer, but I personally found that this one was the most effective."
   ]
  },
  {
   "cell_type": "code",
   "execution_count": 2,
   "metadata": {},
   "outputs": [],
   "source": [
    "import pdfplumber\n",
    "import re\n",
    "import pandas as pd\n",
    "\n",
    "pdf = pdfplumber.open(r\"C:/Users/blong/Desktop/Python/MO-hosp-data.pdf\")"
   ]
  },
  {
   "cell_type": "markdown",
   "metadata": {},
   "source": [
    "### Explore first page of the pdf\n",
    "\n",
    "With pdfplumber, the text can be extracted from each page. This is the first page and all the information it contains."
   ]
  },
  {
   "cell_type": "code",
   "execution_count": 3,
   "metadata": {},
   "outputs": [
    {
     "data": {
      "text/plain": [
       "'MO Hospital Profiles By Name Total Fac Count Last updated\\n162 Friday, January 8, 2021\\nFacility ID: H006 Barnes-Jewish Hospital Licensed Beds by Classification\\nSwingbeds? One Barnes Jewish Hospital Plaza Med/Surg Beds: 677 LTC beds: 0\\nCritical Access? St. Louis, MO 63110 Pediatric Beds: 0 ICU Beds: 173\\nPPS rehab unit? Phone: (314) 747-3000 County ST LOUIS CIT Alcohol/Drug Beds 0 OB Beds: 0\\nPPS psych unit?\\nAccredited? Fax: (314) 362-0468 Rehab Beds: 0 Psych Beds: 46\\nby JointCom Administrator: Dr. John Lynch, President NICU Beds: 0 Total Beds Lic: 896\\nCMS Provider#: 260032 Hospital  Type: General Acute Care Hospital\\nLicense #:421 License Exp 01/31/2021\\nFacility ID: H005 Barnes-Jewish Hospital - North Licensed Beds by Classification\\nSwingbeds? One Parkview Place Med/Surg Beds: 380 LTC beds: 0\\nCritical Access? St. Louis, MO 63110 Pediatric Beds: 0 ICU Beds: 32\\nPPS rehab unit? Phone: (314) 747-3000 County ST LOUIS CIT Alcohol/Drug Beds 0 OB Beds: 70\\nPPS psych unit?\\nAccredited? Fax: (314) 362-0468 Rehab Beds: 0 Psych Beds: 0\\nby JointCom Administrator: Dr. Lynch, President NICU Beds: 0 Total Beds Lic: 482\\nCMS Provider#: 260032 Hospital  Type: General Acute Care Hospital\\nLicense #:421 License Exp 01/31/2021\\nFacility ID: H177 Barnes-Jewish Hospital - Psychiatric Su Licensed Beds by Classification\\nSwingbeds? 5355 Delmar Blvd Med/Surg Beds: 0 LTC beds: 0\\nCritical Access? St. Louis, MO 63112 Pediatric Beds: 0 ICU Beds: 0\\nPPS rehab unit? Phone: (314) 514-3535 County ST LOUIS CIT Alcohol/Drug Beds 0 OB Beds: 0\\nPPS psych unit?\\nAccredited? Fax: Rehab Beds: 0 Psych Beds: 50\\nby JointCom Administrator: Dr. Lynch, President NICU Beds: 0 Total Beds Lic: 50\\nCMS Provider#: 26S032 Hospital  Type: Psychiatric Hospital\\nLicense #:421 License Exp 01/31/2021\\nFacility ID: H007 Barnes-Jewish St. Peters Hospital Licensed Beds by Classification\\nSwingbeds? #10 Hospital Drive Med/Surg Beds: 90 LTC beds: 0\\nCritical Access? St. Peters, MO 63376 Pediatric Beds: 0 ICU Beds: 12\\nPPS rehab unit? Phone: (636) 916-9000 County ST CHARLES Alcohol/Drug Beds 0 OB Beds: 0\\nPPS psych unit?\\nAccredited? Fax: (636) 916-9414 Rehab Beds: 0 Psych Beds: 0\\nby JointCom Administrator: Christopher Watts, CEO NICU Beds: 0 Total Beds Lic: 102\\nCMS Provider#: 260191 Hospital  Type: General Acute Care Hospital\\nLicense #:357 License Exp 08/31/2021\\nFacility ID: H008 Barnes-Jewish West County Hospital Licensed Beds by Classification\\nSwingbeds? 12634 Olive Boulevard Med/Surg Beds: 64 LTC beds: 0\\nCritical Access? Creve Coeur, MO 63141 Pediatric Beds: 0 ICU Beds: 4\\nPPS rehab unit? Phone: (314) 996-8000 County ST LOUIS Alcohol/Drug Beds 0 OB Beds: 0\\nPPS psych unit?\\nAccredited? Fax: (314) 996-8619 Rehab Beds: 0 Psych Beds: 0\\nby JointCom Administrator: Ann Abad NICU Beds: 0 Total Beds Lic: 68\\nCMS Provider#: 260162 Hospital  Type: General Acute Care Hospital\\nLicense #:368 License Exp 10/31/2021\\nFacility ID: H010 Bates County Memorial Hospital Licensed Beds by Classification\\nSwingbeds? 615 West Nursery Street, P.O. Box 370 Med/Surg Beds: 54 LTC beds: 0\\nCritical Access? Butler, MO 64730 Pediatric Beds: 0 ICU Beds: 6\\nPPS rehab unit? Phone: (660) 200-7000 County BATES Alcohol/Drug Beds 0 OB Beds: 0\\nPPS psych unit?\\nAccredited? Fax: (660) 679-4381 Rehab Beds: 0 Psych Beds: 0\\nby DNV Administrator: Greg Weaver, Interim CEO NICU Beds: 0 Total Beds Lic: 60\\nCMS Provider#: 260034 Hospital  Type: General Acute Care Hospital\\nLicense #:205 License Exp 08/31/2021\\nFriday, January 8, 2021 Page 1 of 24'"
      ]
     },
     "execution_count": 3,
     "metadata": {},
     "output_type": "execute_result"
    }
   ],
   "source": [
    "text = pdf.pages[0].extract_text()\n",
    "text"
   ]
  },
  {
   "cell_type": "markdown",
   "metadata": {},
   "source": [
    "### Resources for Regex\n",
    "I am using the re library to primarily the find all functions and will demonstrate examples of regex. Since Regular Expressions can be tricky, I linked a couple resourceful websites that will be helpful for the project.\n",
    "\n",
    "https://www.w3schools.com/python/python_regex.asp\n",
    "https://www.debuggex.com/cheatsheet/regex/python"
   ]
  },
  {
   "cell_type": "markdown",
   "metadata": {},
   "source": [
    "### Examples of Regex\n",
    "\n",
    "This might seem like a wall of text, but in between all the text there are patterns that can be extracted. I will go over some of the regex I used in this project."
   ]
  },
  {
   "cell_type": "code",
   "execution_count": 4,
   "metadata": {},
   "outputs": [
    {
     "data": {
      "text/plain": [
       "['H006', 'H005', 'H177', 'H007', 'H008', 'H010']"
      ]
     },
     "execution_count": 4,
     "metadata": {},
     "output_type": "execute_result"
    }
   ],
   "source": [
    "re.findall('Facility ID: ([A-Z][0-9]{3})', text)"
   ]
  },
  {
   "cell_type": "markdown",
   "metadata": {},
   "source": [
    "First, when looking for a facility ID it is always preceded by \"Facility ID: \". Thus using () to group all the text afterwards. Since all the IDs are one capital letter followed by the numbers, regex will be great for this. [A-Z] defines as finding capital letters, [0-9] defines as finding any numbers, and {3} defines as finding only 3 numbers."
   ]
  },
  {
   "cell_type": "code",
   "execution_count": 5,
   "metadata": {},
   "outputs": [
    {
     "data": {
      "text/plain": [
       "['One Barnes Jewish Hospital Plaza',\n",
       " 'One Parkview Place',\n",
       " '5355 Delmar Blvd',\n",
       " '#10 Hospital Drive',\n",
       " '12634 Olive Boulevard',\n",
       " '615 West Nursery Street, P.O. Box 370']"
      ]
     },
     "execution_count": 5,
     "metadata": {},
     "output_type": "execute_result"
    }
   ],
   "source": [
    "re.findall('Swingbeds\\?\\ (.*) Med/Surg', text)"
   ]
  },
  {
   "cell_type": "markdown",
   "metadata": {},
   "source": [
    "The addresses is always located between \"Swingbeds? \" and \"Med/Surg\". Use the () to group the text in between those two items. Since address can vary a lot in size, numbers and letters. (.*) is used to find any character. There is a slash in between ? (\\?\\), because ? is a regex character, and without the backslashes will add a confusion to regex."
   ]
  },
  {
   "cell_type": "code",
   "execution_count": 6,
   "metadata": {},
   "outputs": [
    {
     "data": {
      "text/plain": [
       "[' (314) 362-0468',\n",
       " ' (314) 362-0468',\n",
       " '',\n",
       " ' (636) 916-9414',\n",
       " ' (314) 996-8619',\n",
       " ' (660) 679-4381']"
      ]
     },
     "execution_count": 6,
     "metadata": {},
     "output_type": "execute_result"
    }
   ],
   "source": [
    "re.findall('Fax:(^ $|.*) Rehab', text)"
   ]
  },
  {
   "cell_type": "markdown",
   "metadata": {},
   "source": [
    "Another example is when there are blank values as in case with fax. Here the ^ and $, which means starts with and ends with, and in this case a blank space \" \". Now since there are fax numbers the | is used as or. That way spaces or numbers will be collected."
   ]
  },
  {
   "cell_type": "code",
   "execution_count": 7,
   "metadata": {},
   "outputs": [
    {
     "data": {
      "text/plain": [
       "[' 173', ' 32', ' 0', ' 12', ' 4', ' 6']"
      ]
     },
     "execution_count": 7,
     "metadata": {},
     "output_type": "execute_result"
    }
   ],
   "source": [
    "re.findall('[^N]ICU Beds:(^$|.*)', text)"
   ]
  },
  {
   "cell_type": "markdown",
   "metadata": {},
   "source": [
    "Here is another good example because it contains NICU and ICU. If just ICU is put as the text qualifier before the group, it will pick up NICU as well since it includes that so the [^N] is excluding the N. Also ^$ this time has no space since there is actually no space in the text to pick up empty values. Thus it is always important to double check how the regex is written."
   ]
  },
  {
   "cell_type": "markdown",
   "metadata": {},
   "source": [
    "### Putting everything together\n",
    "\n",
    "Now I'll be combining all the different regex to collect all the pieces of wanted data from the pdf. First an empty list will have to be used since each page needs to be appended. Then a for loop will run through each page of the pdf which is a total of 24 pages."
   ]
  },
  {
   "cell_type": "code",
   "execution_count": 8,
   "metadata": {},
   "outputs": [],
   "source": [
    "text_all , facid_all, cms_all, facname_all, address_all, town_all, state_all, zip_all, phone_all, county_all, fax_all, admin_all, type_all, medsurg_all, ped_all, drug_all, rehab_all, NICU_all, LTC_all, ICU_all, OB_all, pysch_all, totalbeds_all,  license_all, licensedate_all  = ([] for i in range(25))\n",
    "\n",
    "setnum = [i for i in range(24)]\n",
    "\n",
    "for i in setnum :\n",
    "    text = pdf.pages[i].extract_text()\n",
    "    text_all.append(text)\n",
    "    text_facid = re.findall('Facility ID: ([A-Z][0-9]{3})', text_all[i])\n",
    "    facid_all.append(text_facid)\n",
    "    text_cms = re.findall('CMS Provider#: (.*) Hospital', text_all[i])\n",
    "    cms_all.append(text_cms)    \n",
    "    text_facname = re.findall('[A-Z][0-9]{3} (.*) Licensed', text_all[i])\n",
    "    facname_all.append(text_facname)  \n",
    "    text_address = re.findall('Swingbeds\\?\\ (.*) Med/Surg', text_all[i])\n",
    "    address_all.append(text_address) \n",
    "    text_town = re.findall('Critical Access\\?\\ (.*),', text_all[i])\n",
    "    town_all.append(text_town)\n",
    "    text_state = re.findall('[A-z]+, ([A-Z]{2}) [0-9]+', text_all[i])\n",
    "    state_all.append(text_state)\n",
    "    text_zip = re.findall('[A-z]{2} ([0-9]+) Pediatric', text_all[i])\n",
    "    zip_all.append(text_zip)\n",
    "    text_phone = re.findall('Phone: (.*) County', text_all[i])\n",
    "    phone_all.append(text_phone)\n",
    "    text_fax = re.findall('Fax:(^ $|.*) Rehab', text_all[i]) \n",
    "    fax_all.append(text_fax)\n",
    "    text_county = re.findall('County (.*) Alcohol/Drug', text_all[i])\n",
    "    county_all.append(text_county)\n",
    "    text_admin = re.findall('Administrator: (.*) NICU', text_all[i])\n",
    "    admin_all.append(text_admin)\n",
    "    text_type = re.findall('Hospital  Type:(^$|.*)', text_all[i]) \n",
    "    type_all.append(text_type)\n",
    "    text_medsurg =  re.findall('Med/Surg Beds:(^$|.*) LTC', text_all[i])\n",
    "    medsurg_all.append(text_medsurg)\n",
    "    text_ped =  re.findall('Pediatric Beds: ([0-9]+)', text_all[i]) \n",
    "    ped_all.append(text_ped)\n",
    "    text_drug =  re.findall('Alcohol/Drug Beds ([0-9]+)', text_all[i]) \n",
    "    drug_all.append(text_drug)\n",
    "    text_rehab =  re.findall('Rehab Beds: ([0-9]+)', text_all[i]) \n",
    "    rehab_all.append(text_rehab)\n",
    "    text_NICU =  re.findall('NICU Beds: ([0-9]+)', text_all[i]) \n",
    "    NICU_all.append(text_NICU)\n",
    "    text_LTC =  re.findall('LTC beds:(^$|.*)', text_all[i]) \n",
    "    LTC_all.append(text_LTC)\n",
    "    text_ICU =  re.findall('[^N]ICU Beds:(^$|.*)', text_all[i])\n",
    "    ICU_all.append(text_ICU)\n",
    "    text_OB =  re.findall('OB Beds: ([0-9]+)', text_all[i]) \n",
    "    OB_all.append(text_OB)\n",
    "    text_pysch =  re.findall('Psych Beds: ([0-9]+)', text_all[i]) \n",
    "    pysch_all.append(text_pysch)\n",
    "    text_totalbeds =  re.findall('Total Beds Lic: ([0-9]+)', text_all[i]) \n",
    "    totalbeds_all.append(text_totalbeds)\n",
    "    text_license =  re.findall('License #:(^$|.*) License', text_all[i])\n",
    "    license_all.append(text_license)\n",
    "    text_licensedate =  re.findall('License Exp(^$|.*)', text_all[i])\n",
    "    licensedate_all.append(text_licensedate)    \n",
    "    "
   ]
  },
  {
   "cell_type": "markdown",
   "metadata": {},
   "source": [
    "### Convert from list to series\n",
    "\n",
    "Next, each list of data needs to be converted to a series before it can be put into a dataframe."
   ]
  },
  {
   "cell_type": "code",
   "execution_count": 9,
   "metadata": {},
   "outputs": [],
   "source": [
    "facid_all = pd.concat([ pd.Series(x) for x in facid_all ] , ignore_index=True)\n",
    "cms_all = pd.concat([ pd.Series(x) for x in cms_all ] , ignore_index=True)\n",
    "facname_all = pd.concat([ pd.Series(x) for x in facname_all ] , ignore_index=True)\n",
    "address_all = pd.concat([ pd.Series(x) for x in address_all ] , ignore_index=True)\n",
    "town_all = pd.concat([ pd.Series(x) for x in town_all ] , ignore_index=True)\n",
    "state_all = pd.concat([ pd.Series(x) for x in state_all ] , ignore_index=True)\n",
    "zip_all = pd.concat([ pd.Series(x) for x in zip_all ] , ignore_index=True)\n",
    "phone_all = pd.concat([ pd.Series(x) for x in phone_all ] , ignore_index=True)\n",
    "fax_all = pd.concat([ pd.Series(x) for x in fax_all ] , ignore_index=True)\n",
    "county_all = pd.concat([ pd.Series(x) for x in county_all ] , ignore_index=True)\n",
    "admin_all = pd.concat([ pd.Series(x) for x in admin_all ] , ignore_index=True)\n",
    "type_all = pd.concat([ pd.Series(x) for x in type_all ] , ignore_index=True)\n",
    "medsurg_all = pd.concat([ pd.Series(x) for x in medsurg_all ] , ignore_index=True)  \n",
    "ped_all = pd.concat([ pd.Series(x) for x in ped_all ] , ignore_index=True)\n",
    "drug_all = pd.concat([ pd.Series(x) for x in drug_all ] , ignore_index=True)\n",
    "rehab_all = pd.concat([ pd.Series(x) for x in rehab_all ] , ignore_index=True)\n",
    "NICU_all = pd.concat([ pd.Series(x) for x in NICU_all ] , ignore_index=True)\n",
    "LTC_all = pd.concat([ pd.Series(x) for x in LTC_all ] , ignore_index=True)\n",
    "ICU_all = pd.concat([ pd.Series(x) for x in ICU_all ] , ignore_index=True)\n",
    "OB_all = pd.concat([ pd.Series(x) for x in OB_all ] , ignore_index=True)\n",
    "pysch_all = pd.concat([ pd.Series(x) for x in pysch_all ] , ignore_index=True)\n",
    "totalbeds_all = pd.concat([ pd.Series(x) for x in totalbeds_all ] , ignore_index=True)\n",
    "license_all = pd.concat([ pd.Series(x) for x in license_all ] , ignore_index=True)\n",
    "licensedate_all = pd.concat([ pd.Series(x) for x in licensedate_all ] , ignore_index=True)\n"
   ]
  },
  {
   "cell_type": "markdown",
   "metadata": {},
   "source": [
    "### Create data frame\n",
    "\n",
    "Now, after all the fields that have been created can be put into a pandas data frame, it also needs to be transposed. After that, name the columns with their appropriate title."
   ]
  },
  {
   "cell_type": "code",
   "execution_count": 10,
   "metadata": {},
   "outputs": [],
   "source": [
    "data_frame = pd.DataFrame(( facid_all , cms_all , facname_all , address_all, \n",
    "                    town_all, state_all, zip_all, phone_all,\n",
    "                   fax_all, county_all, admin_all, type_all, \n",
    "                   medsurg_all, ped_all, drug_all, rehab_all, \n",
    "                   NICU_all, LTC_all , ICU_all, OB_all, \n",
    "                   pysch_all, totalbeds_all, license_all, \n",
    "                   licensedate_all ) ).T\n",
    "\n",
    "\n",
    "data_frame.columns = ['FacID','CMS','Facility','Address','Town' ,'State','Zip','Phone','Fax','County'\n",
    "              ,'Admin','Type','Med_Surg','Peds','Drug','Rehab','NICU','LTC','ICU','OB'\n",
    "              ,'Pysch','Total_Beds','License_Number','License_exp_date']\n",
    "\n"
   ]
  },
  {
   "cell_type": "markdown",
   "metadata": {},
   "source": [
    "### Clean up data frame\n",
    "\n",
    "Just remove the first spaces that were left over and it's all done! From pdf to text to dataframe!"
   ]
  },
  {
   "cell_type": "code",
   "execution_count": 11,
   "metadata": {},
   "outputs": [
    {
     "data": {
      "text/html": [
       "<div>\n",
       "<style scoped>\n",
       "    .dataframe tbody tr th:only-of-type {\n",
       "        vertical-align: middle;\n",
       "    }\n",
       "\n",
       "    .dataframe tbody tr th {\n",
       "        vertical-align: top;\n",
       "    }\n",
       "\n",
       "    .dataframe thead th {\n",
       "        text-align: right;\n",
       "    }\n",
       "</style>\n",
       "<table border=\"1\" class=\"dataframe\">\n",
       "  <thead>\n",
       "    <tr style=\"text-align: right;\">\n",
       "      <th></th>\n",
       "      <th>FacID</th>\n",
       "      <th>CMS</th>\n",
       "      <th>Facility</th>\n",
       "      <th>Address</th>\n",
       "      <th>Town</th>\n",
       "      <th>State</th>\n",
       "      <th>Zip</th>\n",
       "      <th>Phone</th>\n",
       "      <th>Fax</th>\n",
       "      <th>County</th>\n",
       "      <th>...</th>\n",
       "      <th>Drug</th>\n",
       "      <th>Rehab</th>\n",
       "      <th>NICU</th>\n",
       "      <th>LTC</th>\n",
       "      <th>ICU</th>\n",
       "      <th>OB</th>\n",
       "      <th>Pysch</th>\n",
       "      <th>Total_Beds</th>\n",
       "      <th>License_Number</th>\n",
       "      <th>License_exp_date</th>\n",
       "    </tr>\n",
       "  </thead>\n",
       "  <tbody>\n",
       "    <tr>\n",
       "      <td>0</td>\n",
       "      <td>H006</td>\n",
       "      <td>260032 Hospital  Type: General Acute Care</td>\n",
       "      <td>Barnes-Jewish Hospital</td>\n",
       "      <td>One Barnes Jewish Hospital Plaza</td>\n",
       "      <td>St. Louis</td>\n",
       "      <td>MO</td>\n",
       "      <td>63110</td>\n",
       "      <td>(314) 747-3000</td>\n",
       "      <td>(314) 362-0468</td>\n",
       "      <td>ST LOUIS CIT</td>\n",
       "      <td>...</td>\n",
       "      <td>0</td>\n",
       "      <td>0</td>\n",
       "      <td>0</td>\n",
       "      <td>0</td>\n",
       "      <td>173</td>\n",
       "      <td>0</td>\n",
       "      <td>46</td>\n",
       "      <td>896</td>\n",
       "      <td>21</td>\n",
       "      <td>01/31/2021</td>\n",
       "    </tr>\n",
       "    <tr>\n",
       "      <td>1</td>\n",
       "      <td>H005</td>\n",
       "      <td>260032 Hospital  Type: General Acute Care</td>\n",
       "      <td>Barnes-Jewish Hospital - North</td>\n",
       "      <td>One Parkview Place</td>\n",
       "      <td>St. Louis</td>\n",
       "      <td>MO</td>\n",
       "      <td>63110</td>\n",
       "      <td>(314) 747-3000</td>\n",
       "      <td>(314) 362-0468</td>\n",
       "      <td>ST LOUIS CIT</td>\n",
       "      <td>...</td>\n",
       "      <td>0</td>\n",
       "      <td>0</td>\n",
       "      <td>0</td>\n",
       "      <td>0</td>\n",
       "      <td>32</td>\n",
       "      <td>70</td>\n",
       "      <td>0</td>\n",
       "      <td>482</td>\n",
       "      <td>21</td>\n",
       "      <td>01/31/2021</td>\n",
       "    </tr>\n",
       "    <tr>\n",
       "      <td>2</td>\n",
       "      <td>H177</td>\n",
       "      <td>26S032 Hospital  Type: Psychiatric</td>\n",
       "      <td>Barnes-Jewish Hospital - Psychiatric Su</td>\n",
       "      <td>5355 Delmar Blvd</td>\n",
       "      <td>St. Louis</td>\n",
       "      <td>MO</td>\n",
       "      <td>63112</td>\n",
       "      <td>(314) 514-3535</td>\n",
       "      <td></td>\n",
       "      <td>ST LOUIS CIT</td>\n",
       "      <td>...</td>\n",
       "      <td>0</td>\n",
       "      <td>0</td>\n",
       "      <td>0</td>\n",
       "      <td>0</td>\n",
       "      <td>0</td>\n",
       "      <td>0</td>\n",
       "      <td>50</td>\n",
       "      <td>50</td>\n",
       "      <td>21</td>\n",
       "      <td>01/31/2021</td>\n",
       "    </tr>\n",
       "    <tr>\n",
       "      <td>3</td>\n",
       "      <td>H007</td>\n",
       "      <td>260191 Hospital  Type: General Acute Care</td>\n",
       "      <td>Barnes-Jewish St. Peters Hospital</td>\n",
       "      <td>#10 Hospital Drive</td>\n",
       "      <td>St. Peters</td>\n",
       "      <td>MO</td>\n",
       "      <td>63376</td>\n",
       "      <td>(636) 916-9000</td>\n",
       "      <td>(636) 916-9414</td>\n",
       "      <td>ST CHARLES</td>\n",
       "      <td>...</td>\n",
       "      <td>0</td>\n",
       "      <td>0</td>\n",
       "      <td>0</td>\n",
       "      <td>0</td>\n",
       "      <td>12</td>\n",
       "      <td>0</td>\n",
       "      <td>0</td>\n",
       "      <td>102</td>\n",
       "      <td>57</td>\n",
       "      <td>08/31/2021</td>\n",
       "    </tr>\n",
       "    <tr>\n",
       "      <td>4</td>\n",
       "      <td>H008</td>\n",
       "      <td>260162 Hospital  Type: General Acute Care</td>\n",
       "      <td>Barnes-Jewish West County Hospital</td>\n",
       "      <td>12634 Olive Boulevard</td>\n",
       "      <td>Creve Coeur</td>\n",
       "      <td>MO</td>\n",
       "      <td>63141</td>\n",
       "      <td>(314) 996-8000</td>\n",
       "      <td>(314) 996-8619</td>\n",
       "      <td>ST LOUIS</td>\n",
       "      <td>...</td>\n",
       "      <td>0</td>\n",
       "      <td>0</td>\n",
       "      <td>0</td>\n",
       "      <td>0</td>\n",
       "      <td>4</td>\n",
       "      <td>0</td>\n",
       "      <td>0</td>\n",
       "      <td>68</td>\n",
       "      <td>68</td>\n",
       "      <td>10/31/2021</td>\n",
       "    </tr>\n",
       "    <tr>\n",
       "      <td>...</td>\n",
       "      <td>...</td>\n",
       "      <td>...</td>\n",
       "      <td>...</td>\n",
       "      <td>...</td>\n",
       "      <td>...</td>\n",
       "      <td>...</td>\n",
       "      <td>...</td>\n",
       "      <td>...</td>\n",
       "      <td>...</td>\n",
       "      <td>...</td>\n",
       "      <td>...</td>\n",
       "      <td>...</td>\n",
       "      <td>...</td>\n",
       "      <td>...</td>\n",
       "      <td>...</td>\n",
       "      <td>...</td>\n",
       "      <td>...</td>\n",
       "      <td>...</td>\n",
       "      <td>...</td>\n",
       "      <td>...</td>\n",
       "      <td>...</td>\n",
       "    </tr>\n",
       "    <tr>\n",
       "      <td>157</td>\n",
       "      <td>H151</td>\n",
       "      <td>260141 Hospital  Type: General Acute Care</td>\n",
       "      <td>University of Missouri Health Care</td>\n",
       "      <td>One Hospital Drive, Room CE121, DC031.00</td>\n",
       "      <td>Columbia</td>\n",
       "      <td>MO</td>\n",
       "      <td>65212</td>\n",
       "      <td>(573) 882-4141</td>\n",
       "      <td>(573) 884-4174</td>\n",
       "      <td>BOONE</td>\n",
       "      <td>...</td>\n",
       "      <td>0</td>\n",
       "      <td>0</td>\n",
       "      <td>0</td>\n",
       "      <td>0</td>\n",
       "      <td>0</td>\n",
       "      <td>0</td>\n",
       "      <td>0</td>\n",
       "      <td>0</td>\n",
       "      <td></td>\n",
       "      <td></td>\n",
       "    </tr>\n",
       "    <tr>\n",
       "      <td>158</td>\n",
       "      <td>H142</td>\n",
       "      <td>261308 Hospital  Type: General Acute Care</td>\n",
       "      <td>Washington County Memorial Hospital</td>\n",
       "      <td>300 Health Way</td>\n",
       "      <td>Potosi</td>\n",
       "      <td>MO</td>\n",
       "      <td>63664</td>\n",
       "      <td>(573) 438-5451</td>\n",
       "      <td>(573) 438-2399</td>\n",
       "      <td>WASHINGTON</td>\n",
       "      <td>...</td>\n",
       "      <td>0</td>\n",
       "      <td>0</td>\n",
       "      <td>0</td>\n",
       "      <td>0</td>\n",
       "      <td>0</td>\n",
       "      <td>0</td>\n",
       "      <td>0</td>\n",
       "      <td>25</td>\n",
       "      <td>24</td>\n",
       "      <td>11/30/2021</td>\n",
       "    </tr>\n",
       "    <tr>\n",
       "      <td>159</td>\n",
       "      <td>H143</td>\n",
       "      <td>260097 Hospital  Type: General Acute Care</td>\n",
       "      <td>Western Missouri Medical Center</td>\n",
       "      <td>403 Burkarth Road</td>\n",
       "      <td>Warrensburg</td>\n",
       "      <td>MO</td>\n",
       "      <td>64093</td>\n",
       "      <td>(660) 747-2500</td>\n",
       "      <td>(660) 747-8455</td>\n",
       "      <td>JOHNSON</td>\n",
       "      <td>...</td>\n",
       "      <td>0</td>\n",
       "      <td>0</td>\n",
       "      <td>0</td>\n",
       "      <td>0</td>\n",
       "      <td>8</td>\n",
       "      <td>18</td>\n",
       "      <td>12</td>\n",
       "      <td>62</td>\n",
       "      <td>21</td>\n",
       "      <td>07/31/2021</td>\n",
       "    </tr>\n",
       "    <tr>\n",
       "      <td>160</td>\n",
       "      <td>H146</td>\n",
       "      <td>260141 Hospital  Type: General Acute Care</td>\n",
       "      <td>Women's and Children's Hospital</td>\n",
       "      <td>404 Keene Street</td>\n",
       "      <td>Columbia</td>\n",
       "      <td>MO</td>\n",
       "      <td>65201</td>\n",
       "      <td>(573) 875-9200</td>\n",
       "      <td>(573) 875-9869</td>\n",
       "      <td>BOONE</td>\n",
       "      <td>...</td>\n",
       "      <td>0</td>\n",
       "      <td>0</td>\n",
       "      <td>0</td>\n",
       "      <td>0</td>\n",
       "      <td>0</td>\n",
       "      <td>0</td>\n",
       "      <td>0</td>\n",
       "      <td>0</td>\n",
       "      <td></td>\n",
       "      <td></td>\n",
       "    </tr>\n",
       "    <tr>\n",
       "      <td>161</td>\n",
       "      <td>H144</td>\n",
       "      <td>261309 Hospital  Type: General Acute Care</td>\n",
       "      <td>Wright Memorial Hospital</td>\n",
       "      <td>191 Iowa Boulevard</td>\n",
       "      <td>Trenton</td>\n",
       "      <td>MO</td>\n",
       "      <td>64683</td>\n",
       "      <td>(660) 359-5621</td>\n",
       "      <td>(660) 359-3541</td>\n",
       "      <td>GRUNDY</td>\n",
       "      <td>...</td>\n",
       "      <td>NaN</td>\n",
       "      <td>0</td>\n",
       "      <td>0</td>\n",
       "      <td>0</td>\n",
       "      <td>0</td>\n",
       "      <td>0</td>\n",
       "      <td>0</td>\n",
       "      <td>22</td>\n",
       "      <td>13</td>\n",
       "      <td>03/31/2021</td>\n",
       "    </tr>\n",
       "  </tbody>\n",
       "</table>\n",
       "<p>162 rows × 24 columns</p>\n",
       "</div>"
      ],
      "text/plain": [
       "    FacID                                        CMS  \\\n",
       "0    H006  260032 Hospital  Type: General Acute Care   \n",
       "1    H005  260032 Hospital  Type: General Acute Care   \n",
       "2    H177         26S032 Hospital  Type: Psychiatric   \n",
       "3    H007  260191 Hospital  Type: General Acute Care   \n",
       "4    H008  260162 Hospital  Type: General Acute Care   \n",
       "..    ...                                        ...   \n",
       "157  H151  260141 Hospital  Type: General Acute Care   \n",
       "158  H142  261308 Hospital  Type: General Acute Care   \n",
       "159  H143  260097 Hospital  Type: General Acute Care   \n",
       "160  H146  260141 Hospital  Type: General Acute Care   \n",
       "161  H144  261309 Hospital  Type: General Acute Care   \n",
       "\n",
       "                                    Facility  \\\n",
       "0                     Barnes-Jewish Hospital   \n",
       "1             Barnes-Jewish Hospital - North   \n",
       "2    Barnes-Jewish Hospital - Psychiatric Su   \n",
       "3          Barnes-Jewish St. Peters Hospital   \n",
       "4         Barnes-Jewish West County Hospital   \n",
       "..                                       ...   \n",
       "157       University of Missouri Health Care   \n",
       "158      Washington County Memorial Hospital   \n",
       "159          Western Missouri Medical Center   \n",
       "160          Women's and Children's Hospital   \n",
       "161                 Wright Memorial Hospital   \n",
       "\n",
       "                                      Address         Town State    Zip  \\\n",
       "0            One Barnes Jewish Hospital Plaza    St. Louis    MO  63110   \n",
       "1                          One Parkview Place    St. Louis    MO  63110   \n",
       "2                            5355 Delmar Blvd    St. Louis    MO  63112   \n",
       "3                          #10 Hospital Drive   St. Peters    MO  63376   \n",
       "4                       12634 Olive Boulevard  Creve Coeur    MO  63141   \n",
       "..                                        ...          ...   ...    ...   \n",
       "157  One Hospital Drive, Room CE121, DC031.00     Columbia    MO  65212   \n",
       "158                            300 Health Way       Potosi    MO  63664   \n",
       "159                         403 Burkarth Road  Warrensburg    MO  64093   \n",
       "160                          404 Keene Street     Columbia    MO  65201   \n",
       "161                        191 Iowa Boulevard      Trenton    MO  64683   \n",
       "\n",
       "              Phone             Fax        County  ... Drug Rehab NICU LTC  \\\n",
       "0    (314) 747-3000  (314) 362-0468  ST LOUIS CIT  ...    0     0    0   0   \n",
       "1    (314) 747-3000  (314) 362-0468  ST LOUIS CIT  ...    0     0    0   0   \n",
       "2    (314) 514-3535                  ST LOUIS CIT  ...    0     0    0   0   \n",
       "3    (636) 916-9000  (636) 916-9414    ST CHARLES  ...    0     0    0   0   \n",
       "4    (314) 996-8000  (314) 996-8619      ST LOUIS  ...    0     0    0   0   \n",
       "..              ...             ...           ...  ...  ...   ...  ...  ..   \n",
       "157  (573) 882-4141  (573) 884-4174         BOONE  ...    0     0    0   0   \n",
       "158  (573) 438-5451  (573) 438-2399    WASHINGTON  ...    0     0    0   0   \n",
       "159  (660) 747-2500  (660) 747-8455       JOHNSON  ...    0     0    0   0   \n",
       "160  (573) 875-9200  (573) 875-9869         BOONE  ...    0     0    0   0   \n",
       "161  (660) 359-5621  (660) 359-3541        GRUNDY  ...  NaN     0    0   0   \n",
       "\n",
       "     ICU  OB Pysch Total_Beds License_Number License_exp_date  \n",
       "0    173   0    46        896             21       01/31/2021  \n",
       "1     32  70     0        482             21       01/31/2021  \n",
       "2      0   0    50         50             21       01/31/2021  \n",
       "3     12   0     0        102             57       08/31/2021  \n",
       "4      4   0     0         68             68       10/31/2021  \n",
       "..   ...  ..   ...        ...            ...              ...  \n",
       "157    0   0     0          0                                  \n",
       "158    0   0     0         25             24       11/30/2021  \n",
       "159    8  18    12         62             21       07/31/2021  \n",
       "160    0   0     0          0                                  \n",
       "161    0   0     0         22             13       03/31/2021  \n",
       "\n",
       "[162 rows x 24 columns]"
      ]
     },
     "execution_count": 11,
     "metadata": {},
     "output_type": "execute_result"
    }
   ],
   "source": [
    "data_frame['Fax'] = data_frame['Fax'].str[1:]\n",
    "data_frame['Type'] = data_frame['Type'].str[1:]\n",
    "data_frame['Med_Surg'] = data_frame['Med_Surg'].str[1:]\n",
    "data_frame['LTC'] = data_frame['LTC'].str[1:]\n",
    "data_frame['ICU'] = data_frame['ICU'].str[1:]\n",
    "data_frame['License_Number'] = data_frame['License_Number'].str[1:]\n",
    "data_frame['License_exp_date'] = data_frame['License_exp_date'].str[1:]\n",
    "\n",
    "data_frame"
   ]
  },
  {
   "cell_type": "markdown",
   "metadata": {},
   "source": [
    "## Inserting into SQL Server\n",
    "\n",
    "Here I will give the steps to inserting the data frame into a MS SQL Server since I don't want to actually run it. I will commit the code out, but it will work."
   ]
  },
  {
   "cell_type": "markdown",
   "metadata": {},
   "source": [
    "### Connect to Sever"
   ]
  },
  {
   "cell_type": "code",
   "execution_count": 12,
   "metadata": {},
   "outputs": [],
   "source": [
    "#import pyodbc\n",
    " \n",
    "#conn = pyodbc.connect('Driver={SQL Server};' \n",
    "#    'Server=Aarons_awesome_server ;'\n",
    "#    'Database=facility_info;'\n",
    "#    'Trusted_Connection=no;'\n",
    "#    'UID=Buy_ETH;'\n",
    "#    'PWD=password123;')\n",
    "\n",
    "#cursor = conn.cursor()"
   ]
  },
  {
   "cell_type": "markdown",
   "metadata": {},
   "source": [
    "### Drop table and create table\n",
    "\n",
    "Drop the table in case data is already in it. Now create the table with the various names and data types."
   ]
  },
  {
   "cell_type": "code",
   "execution_count": 13,
   "metadata": {},
   "outputs": [],
   "source": [
    "# cursor.execute('''DROP TABLE MO_DHSS_Fac_List''')\n",
    "# conn.commit()\n",
    "\n",
    "\n",
    "# cursor.execute('''\n",
    "#                 CREATE TABLE MO_DHSS_Fac_List\n",
    "#                     (\n",
    "#                     FacID nchar(10),\n",
    "#                     CMS nchar(100),\n",
    "#                     Facility nchar(100),\n",
    "#                     Address nchar(100),\n",
    "#                     Town nchar(100),\n",
    "#                     State nchar(100),\n",
    "#                     Zip nchar(20),\n",
    "#                     Phone nchar(100),\n",
    "#                     Fax nchar(100),\n",
    "#                     Admin nchar(100),\n",
    "#                     Type nchar(100),\n",
    "#                     Med_Surg int,\n",
    "#                     Peds int,\n",
    "#                     Drug int,\n",
    "#                     Rehab int,\n",
    "#                     NICU int,\n",
    "#                     LTC int,\n",
    "#                     ICU int,\n",
    "#                     OB int,\n",
    "#                     Pysch int,\n",
    "#                     Total_Beds int,\n",
    "#                     License_Number int,\n",
    "#                     License_exp_date nchar(100)\n",
    "#                     )\n",
    "#                 ''')\n",
    "# conn.commit()"
   ]
  },
  {
   "cell_type": "markdown",
   "metadata": {},
   "source": [
    "### Load in the data"
   ]
  },
  {
   "cell_type": "code",
   "execution_count": 14,
   "metadata": {},
   "outputs": [],
   "source": [
    "# count = 0\n",
    "# for index,row in data_frame.iterrows():\n",
    "#     cursor.execute('''INSERT INTO [facility_info].[dbo].[MO_DHSS_Hosp_List]([FacID],\n",
    "#                    [CMS],[Facility],[Address],[Town],\n",
    "#                    [State],[Zip],[Phone],[Fax],[Admin],[Type],\n",
    "#                    [Med_Surg],[Peds],[Drug],[Rehab],[NICU],[LTC],[ICU],[OB],[Pysch],\n",
    "#                    [Total_Beds],[License_Number],[License_exp_date])\n",
    "#                     values(?,?,?,?,?,?,?,?,?,?,?,?,?,?,?,?,?,?,?,?,?,?,?)''', \n",
    "#                     row['FacID'],row['CMS'],row['Facility'],row['Address'],row['Town'],\n",
    "#                     row['State'],row['Zip'],row['Phone'],\n",
    "#                     row['Fax'],row['Admin'],row['Type'],\n",
    "#                     row['Med_Surg'],row['Peds'],row['Drug'],\n",
    "#                     row['Rehab'],row['NICU'],row['LTC'],row['ICU'],row['OB'],row['Pysch'],\n",
    "#                     row['Total_Beds'],row['License_Number'],row['License_exp_date'])\n",
    "#     conn.commit()\n",
    "#     count = count + 1\n",
    "#     print(count)\n",
    "\n",
    "\n",
    "# conn.commit()\n",
    "\n",
    "\n",
    "# cursor.close()\n",
    "# conn.close()"
   ]
  },
  {
   "cell_type": "markdown",
   "metadata": {},
   "source": [
    "# Conclusion\n",
    "\n",
    "This project has parsed a pdf and I used regex to convert the elements to a dataframe, and then I inserted into a SQL server. Hopefully you found it useful, interesting, informative, or all of the above! Thank you for reading through it and if you have any questions or comments please reach out to me."
   ]
  }
 ],
 "metadata": {
  "kernelspec": {
   "display_name": "Python 3",
   "language": "python",
   "name": "python3"
  },
  "language_info": {
   "codemirror_mode": {
    "name": "ipython",
    "version": 3
   },
   "file_extension": ".py",
   "mimetype": "text/x-python",
   "name": "python",
   "nbconvert_exporter": "python",
   "pygments_lexer": "ipython3",
   "version": "3.7.3"
  }
 },
 "nbformat": 4,
 "nbformat_minor": 4
}
